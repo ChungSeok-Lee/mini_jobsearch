{
  "nbformat": 4,
  "nbformat_minor": 0,
  "metadata": {
    "colab": {
      "name": "edit_CodeTable.ipynb",
      "provenance": []
    },
    "kernelspec": {
      "name": "python3",
      "display_name": "Python 3"
    }
  },
  "cells": [
    {
      "cell_type": "code",
      "metadata": {
        "id": "Kr6d_v6kmid4",
        "colab_type": "code",
        "colab": {}
      },
      "source": [
        "import pandas as pd\n",
        "df = pd.read_csv('./code_table.csv')"
      ],
      "execution_count": null,
      "outputs": []
    },
    {
      "cell_type": "code",
      "metadata": {
        "id": "g4kv7APgKQDf",
        "colab_type": "code",
        "colab": {}
      },
      "source": [
        "df = df.drop(['Unnamed: 0'], axis =1)"
      ],
      "execution_count": null,
      "outputs": []
    },
    {
      "cell_type": "code",
      "metadata": {
        "id": "eb5Sge2JRdna",
        "colab_type": "code",
        "colab": {
          "base_uri": "https://localhost:8080/",
          "height": 419
        },
        "outputId": "83920deb-c215-4b7d-b425-e648fbcf8eab"
      },
      "source": [
        "df"
      ],
      "execution_count": null,
      "outputs": [
        {
          "output_type": "execute_result",
          "data": {
            "text/html": [
              "<div>\n",
              "<style scoped>\n",
              "    .dataframe tbody tr th:only-of-type {\n",
              "        vertical-align: middle;\n",
              "    }\n",
              "\n",
              "    .dataframe tbody tr th {\n",
              "        vertical-align: top;\n",
              "    }\n",
              "\n",
              "    .dataframe thead th {\n",
              "        text-align: right;\n",
              "    }\n",
              "</style>\n",
              "<table border=\"1\" class=\"dataframe\">\n",
              "  <thead>\n",
              "    <tr style=\"text-align: right;\">\n",
              "      <th></th>\n",
              "      <th>Name</th>\n",
              "      <th>Code</th>\n",
              "    </tr>\n",
              "  </thead>\n",
              "  <tbody>\n",
              "    <tr>\n",
              "      <th>0</th>\n",
              "      <td>개발</td>\n",
              "      <td>/wdlist/518</td>\n",
              "    </tr>\n",
              "    <tr>\n",
              "      <th>1</th>\n",
              "      <td>서버 개발자</td>\n",
              "      <td>/wdlist/518/872</td>\n",
              "    </tr>\n",
              "    <tr>\n",
              "      <th>2</th>\n",
              "      <td>웹 개발자</td>\n",
              "      <td>/wdlist/518/873</td>\n",
              "    </tr>\n",
              "    <tr>\n",
              "      <th>3</th>\n",
              "      <td>프론트엔드 개발자</td>\n",
              "      <td>/wdlist/518/669</td>\n",
              "    </tr>\n",
              "    <tr>\n",
              "      <th>4</th>\n",
              "      <td>자바 개발자</td>\n",
              "      <td>/wdlist/518/660</td>\n",
              "    </tr>\n",
              "    <tr>\n",
              "      <th>...</th>\n",
              "      <td>...</td>\n",
              "      <td>...</td>\n",
              "    </tr>\n",
              "    <tr>\n",
              "      <th>101</th>\n",
              "      <td>물류, 무역</td>\n",
              "      <td>/wdlist/532</td>\n",
              "    </tr>\n",
              "    <tr>\n",
              "      <th>102</th>\n",
              "      <td>식·음료</td>\n",
              "      <td>/wdlist/10057</td>\n",
              "    </tr>\n",
              "    <tr>\n",
              "      <th>103</th>\n",
              "      <td>법률, 법집행기관</td>\n",
              "      <td>/wdlist/521</td>\n",
              "    </tr>\n",
              "    <tr>\n",
              "      <th>104</th>\n",
              "      <td>건설, 시설</td>\n",
              "      <td>/wdlist/509</td>\n",
              "    </tr>\n",
              "    <tr>\n",
              "      <th>105</th>\n",
              "      <td>비영리</td>\n",
              "      <td>/wdlist/514</td>\n",
              "    </tr>\n",
              "  </tbody>\n",
              "</table>\n",
              "<p>106 rows × 2 columns</p>\n",
              "</div>"
            ],
            "text/plain": [
              "          Name             Code\n",
              "0           개발      /wdlist/518\n",
              "1       서버 개발자  /wdlist/518/872\n",
              "2        웹 개발자  /wdlist/518/873\n",
              "3    프론트엔드 개발자  /wdlist/518/669\n",
              "4       자바 개발자  /wdlist/518/660\n",
              "..         ...              ...\n",
              "101     물류, 무역      /wdlist/532\n",
              "102       식·음료    /wdlist/10057\n",
              "103  법률, 법집행기관      /wdlist/521\n",
              "104     건설, 시설      /wdlist/509\n",
              "105        비영리      /wdlist/514\n",
              "\n",
              "[106 rows x 2 columns]"
            ]
          },
          "metadata": {
            "tags": []
          },
          "execution_count": 24
        }
      ]
    },
    {
      "cell_type": "code",
      "metadata": {
        "id": "ovaMDujqRm1m",
        "colab_type": "code",
        "colab": {}
      },
      "source": [
        "for i in range(len(df)):\n",
        "  df['Code'][i] = df['Code'][i].replace('/wdlist/', '')"
      ],
      "execution_count": null,
      "outputs": []
    },
    {
      "cell_type": "code",
      "metadata": {
        "id": "X7AaUZbPRylv",
        "colab_type": "code",
        "colab": {
          "base_uri": "https://localhost:8080/",
          "height": 419
        },
        "outputId": "1f06e3e6-1ee7-48db-b978-288b3f18bdd1"
      },
      "source": [
        "df"
      ],
      "execution_count": null,
      "outputs": [
        {
          "output_type": "execute_result",
          "data": {
            "text/html": [
              "<div>\n",
              "<style scoped>\n",
              "    .dataframe tbody tr th:only-of-type {\n",
              "        vertical-align: middle;\n",
              "    }\n",
              "\n",
              "    .dataframe tbody tr th {\n",
              "        vertical-align: top;\n",
              "    }\n",
              "\n",
              "    .dataframe thead th {\n",
              "        text-align: right;\n",
              "    }\n",
              "</style>\n",
              "<table border=\"1\" class=\"dataframe\">\n",
              "  <thead>\n",
              "    <tr style=\"text-align: right;\">\n",
              "      <th></th>\n",
              "      <th>Name</th>\n",
              "      <th>Code</th>\n",
              "    </tr>\n",
              "  </thead>\n",
              "  <tbody>\n",
              "    <tr>\n",
              "      <th>0</th>\n",
              "      <td>개발</td>\n",
              "      <td>518</td>\n",
              "    </tr>\n",
              "    <tr>\n",
              "      <th>1</th>\n",
              "      <td>서버 개발자</td>\n",
              "      <td>518/872</td>\n",
              "    </tr>\n",
              "    <tr>\n",
              "      <th>2</th>\n",
              "      <td>웹 개발자</td>\n",
              "      <td>518/873</td>\n",
              "    </tr>\n",
              "    <tr>\n",
              "      <th>3</th>\n",
              "      <td>프론트엔드 개발자</td>\n",
              "      <td>518/669</td>\n",
              "    </tr>\n",
              "    <tr>\n",
              "      <th>4</th>\n",
              "      <td>자바 개발자</td>\n",
              "      <td>518/660</td>\n",
              "    </tr>\n",
              "    <tr>\n",
              "      <th>...</th>\n",
              "      <td>...</td>\n",
              "      <td>...</td>\n",
              "    </tr>\n",
              "    <tr>\n",
              "      <th>101</th>\n",
              "      <td>물류, 무역</td>\n",
              "      <td>532</td>\n",
              "    </tr>\n",
              "    <tr>\n",
              "      <th>102</th>\n",
              "      <td>식·음료</td>\n",
              "      <td>10057</td>\n",
              "    </tr>\n",
              "    <tr>\n",
              "      <th>103</th>\n",
              "      <td>법률, 법집행기관</td>\n",
              "      <td>521</td>\n",
              "    </tr>\n",
              "    <tr>\n",
              "      <th>104</th>\n",
              "      <td>건설, 시설</td>\n",
              "      <td>509</td>\n",
              "    </tr>\n",
              "    <tr>\n",
              "      <th>105</th>\n",
              "      <td>비영리</td>\n",
              "      <td>514</td>\n",
              "    </tr>\n",
              "  </tbody>\n",
              "</table>\n",
              "<p>106 rows × 2 columns</p>\n",
              "</div>"
            ],
            "text/plain": [
              "          Name     Code\n",
              "0           개발      518\n",
              "1       서버 개발자  518/872\n",
              "2        웹 개발자  518/873\n",
              "3    프론트엔드 개발자  518/669\n",
              "4       자바 개발자  518/660\n",
              "..         ...      ...\n",
              "101     물류, 무역      532\n",
              "102       식·음료    10057\n",
              "103  법률, 법집행기관      521\n",
              "104     건설, 시설      509\n",
              "105        비영리      514\n",
              "\n",
              "[106 rows x 2 columns]"
            ]
          },
          "metadata": {
            "tags": []
          },
          "execution_count": 28
        }
      ]
    },
    {
      "cell_type": "code",
      "metadata": {
        "id": "ePN7TDvrR0Ki",
        "colab_type": "code",
        "colab": {
          "base_uri": "https://localhost:8080/",
          "height": 419
        },
        "outputId": "c44944e5-0358-41e8-f215-b1eb033b823d"
      },
      "source": [
        "df['Category'] = 0\n",
        "df"
      ],
      "execution_count": null,
      "outputs": [
        {
          "output_type": "execute_result",
          "data": {
            "text/html": [
              "<div>\n",
              "<style scoped>\n",
              "    .dataframe tbody tr th:only-of-type {\n",
              "        vertical-align: middle;\n",
              "    }\n",
              "\n",
              "    .dataframe tbody tr th {\n",
              "        vertical-align: top;\n",
              "    }\n",
              "\n",
              "    .dataframe thead th {\n",
              "        text-align: right;\n",
              "    }\n",
              "</style>\n",
              "<table border=\"1\" class=\"dataframe\">\n",
              "  <thead>\n",
              "    <tr style=\"text-align: right;\">\n",
              "      <th></th>\n",
              "      <th>Name</th>\n",
              "      <th>Code</th>\n",
              "      <th>Category</th>\n",
              "    </tr>\n",
              "  </thead>\n",
              "  <tbody>\n",
              "    <tr>\n",
              "      <th>0</th>\n",
              "      <td>개발</td>\n",
              "      <td>518</td>\n",
              "      <td>0</td>\n",
              "    </tr>\n",
              "    <tr>\n",
              "      <th>1</th>\n",
              "      <td>서버 개발자</td>\n",
              "      <td>518/872</td>\n",
              "      <td>0</td>\n",
              "    </tr>\n",
              "    <tr>\n",
              "      <th>2</th>\n",
              "      <td>웹 개발자</td>\n",
              "      <td>518/873</td>\n",
              "      <td>0</td>\n",
              "    </tr>\n",
              "    <tr>\n",
              "      <th>3</th>\n",
              "      <td>프론트엔드 개발자</td>\n",
              "      <td>518/669</td>\n",
              "      <td>0</td>\n",
              "    </tr>\n",
              "    <tr>\n",
              "      <th>4</th>\n",
              "      <td>자바 개발자</td>\n",
              "      <td>518/660</td>\n",
              "      <td>0</td>\n",
              "    </tr>\n",
              "    <tr>\n",
              "      <th>...</th>\n",
              "      <td>...</td>\n",
              "      <td>...</td>\n",
              "      <td>...</td>\n",
              "    </tr>\n",
              "    <tr>\n",
              "      <th>101</th>\n",
              "      <td>물류, 무역</td>\n",
              "      <td>532</td>\n",
              "      <td>0</td>\n",
              "    </tr>\n",
              "    <tr>\n",
              "      <th>102</th>\n",
              "      <td>식·음료</td>\n",
              "      <td>10057</td>\n",
              "      <td>0</td>\n",
              "    </tr>\n",
              "    <tr>\n",
              "      <th>103</th>\n",
              "      <td>법률, 법집행기관</td>\n",
              "      <td>521</td>\n",
              "      <td>0</td>\n",
              "    </tr>\n",
              "    <tr>\n",
              "      <th>104</th>\n",
              "      <td>건설, 시설</td>\n",
              "      <td>509</td>\n",
              "      <td>0</td>\n",
              "    </tr>\n",
              "    <tr>\n",
              "      <th>105</th>\n",
              "      <td>비영리</td>\n",
              "      <td>514</td>\n",
              "      <td>0</td>\n",
              "    </tr>\n",
              "  </tbody>\n",
              "</table>\n",
              "<p>106 rows × 3 columns</p>\n",
              "</div>"
            ],
            "text/plain": [
              "          Name     Code  Category\n",
              "0           개발      518         0\n",
              "1       서버 개발자  518/872         0\n",
              "2        웹 개발자  518/873         0\n",
              "3    프론트엔드 개발자  518/669         0\n",
              "4       자바 개발자  518/660         0\n",
              "..         ...      ...       ...\n",
              "101     물류, 무역      532         0\n",
              "102       식·음료    10057         0\n",
              "103  법률, 법집행기관      521         0\n",
              "104     건설, 시설      509         0\n",
              "105        비영리      514         0\n",
              "\n",
              "[106 rows x 3 columns]"
            ]
          },
          "metadata": {
            "tags": []
          },
          "execution_count": 29
        }
      ]
    },
    {
      "cell_type": "code",
      "metadata": {
        "id": "5gNA2SKISpTK",
        "colab_type": "code",
        "colab": {}
      },
      "source": [
        "df = df.drop(list(df.loc[df['Name']=='더보기'].index))"
      ],
      "execution_count": null,
      "outputs": []
    },
    {
      "cell_type": "code",
      "metadata": {
        "id": "Mufm6Tf-ThfH",
        "colab_type": "code",
        "colab": {}
      },
      "source": [
        "df['Category'].loc[df['Code'].str.contains('518')] = '개발'\n",
        "df['Category'].loc[df['Code'].str.contains('507')] = '경영, 비즈니스'\n",
        "df['Category'].loc[df['Code'].str.contains('523')] = '마케팅, 광고'\n",
        "df['Category'].loc[df['Code'].str.contains('511')] = '디자인'\n",
        "df['Category'].loc[df['Code'].str.contains('530')] = '영업'\n",
        "df['Category'].loc[df['Code'].str.contains('510')] = \"CS, 리테일\"\n",
        "df['Category'].loc[df['Code'].str.contains('524')] = '미디어'\n",
        "df['Category'].loc[df['Code'].str.contains('517')] = '인사, 교육'\n",
        "df['Category'].loc[df['Code'].str.contains('508')] = '금융'\n",
        "df['Category'].loc[df['Code'].str.contains('513')] = '엔지니어링, 설계'\n"
      ],
      "execution_count": null,
      "outputs": []
    },
    {
      "cell_type": "code",
      "metadata": {
        "id": "v750MZODVi5Y",
        "colab_type": "code",
        "colab": {
          "base_uri": "https://localhost:8080/",
          "height": 419
        },
        "outputId": "62c1d25b-3c71-409a-d05b-b89df3cd0684"
      },
      "source": [
        "df['Category'].loc[df['Category']==0] = '기타'\n",
        "df"
      ],
      "execution_count": null,
      "outputs": [
        {
          "output_type": "execute_result",
          "data": {
            "text/html": [
              "<div>\n",
              "<style scoped>\n",
              "    .dataframe tbody tr th:only-of-type {\n",
              "        vertical-align: middle;\n",
              "    }\n",
              "\n",
              "    .dataframe tbody tr th {\n",
              "        vertical-align: top;\n",
              "    }\n",
              "\n",
              "    .dataframe thead th {\n",
              "        text-align: right;\n",
              "    }\n",
              "</style>\n",
              "<table border=\"1\" class=\"dataframe\">\n",
              "  <thead>\n",
              "    <tr style=\"text-align: right;\">\n",
              "      <th></th>\n",
              "      <th>Name</th>\n",
              "      <th>Code</th>\n",
              "      <th>Category</th>\n",
              "    </tr>\n",
              "  </thead>\n",
              "  <tbody>\n",
              "    <tr>\n",
              "      <th>0</th>\n",
              "      <td>개발</td>\n",
              "      <td>518</td>\n",
              "      <td>개발</td>\n",
              "    </tr>\n",
              "    <tr>\n",
              "      <th>1</th>\n",
              "      <td>서버 개발자</td>\n",
              "      <td>518/872</td>\n",
              "      <td>개발</td>\n",
              "    </tr>\n",
              "    <tr>\n",
              "      <th>2</th>\n",
              "      <td>웹 개발자</td>\n",
              "      <td>518/873</td>\n",
              "      <td>개발</td>\n",
              "    </tr>\n",
              "    <tr>\n",
              "      <th>3</th>\n",
              "      <td>프론트엔드 개발자</td>\n",
              "      <td>518/669</td>\n",
              "      <td>개발</td>\n",
              "    </tr>\n",
              "    <tr>\n",
              "      <th>4</th>\n",
              "      <td>자바 개발자</td>\n",
              "      <td>518/660</td>\n",
              "      <td>개발</td>\n",
              "    </tr>\n",
              "    <tr>\n",
              "      <th>...</th>\n",
              "      <td>...</td>\n",
              "      <td>...</td>\n",
              "      <td>...</td>\n",
              "    </tr>\n",
              "    <tr>\n",
              "      <th>101</th>\n",
              "      <td>물류, 무역</td>\n",
              "      <td>532</td>\n",
              "      <td>기타</td>\n",
              "    </tr>\n",
              "    <tr>\n",
              "      <th>102</th>\n",
              "      <td>식·음료</td>\n",
              "      <td>10057</td>\n",
              "      <td>기타</td>\n",
              "    </tr>\n",
              "    <tr>\n",
              "      <th>103</th>\n",
              "      <td>법률, 법집행기관</td>\n",
              "      <td>521</td>\n",
              "      <td>기타</td>\n",
              "    </tr>\n",
              "    <tr>\n",
              "      <th>104</th>\n",
              "      <td>건설, 시설</td>\n",
              "      <td>509</td>\n",
              "      <td>기타</td>\n",
              "    </tr>\n",
              "    <tr>\n",
              "      <th>105</th>\n",
              "      <td>비영리</td>\n",
              "      <td>514</td>\n",
              "      <td>기타</td>\n",
              "    </tr>\n",
              "  </tbody>\n",
              "</table>\n",
              "<p>96 rows × 3 columns</p>\n",
              "</div>"
            ],
            "text/plain": [
              "          Name     Code Category\n",
              "0           개발      518       개발\n",
              "1       서버 개발자  518/872       개발\n",
              "2        웹 개발자  518/873       개발\n",
              "3    프론트엔드 개발자  518/669       개발\n",
              "4       자바 개발자  518/660       개발\n",
              "..         ...      ...      ...\n",
              "101     물류, 무역      532       기타\n",
              "102       식·음료    10057       기타\n",
              "103  법률, 법집행기관      521       기타\n",
              "104     건설, 시설      509       기타\n",
              "105        비영리      514       기타\n",
              "\n",
              "[96 rows x 3 columns]"
            ]
          },
          "metadata": {
            "tags": []
          },
          "execution_count": 61
        }
      ]
    },
    {
      "cell_type": "code",
      "metadata": {
        "id": "q9k-eOmWVqYq",
        "colab_type": "code",
        "colab": {}
      },
      "source": [
        "df.to_csv('code_table.csv', index = False)"
      ],
      "execution_count": null,
      "outputs": []
    },
    {
      "cell_type": "code",
      "metadata": {
        "id": "5JHA73FUWIyf",
        "colab_type": "code",
        "colab": {}
      },
      "source": [
        ""
      ],
      "execution_count": null,
      "outputs": []
    }
  ]
}